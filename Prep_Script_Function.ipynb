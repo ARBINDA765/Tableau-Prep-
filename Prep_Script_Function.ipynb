{
 "cells": [
  {
   "cell_type": "code",
   "execution_count": 5,
   "id": "76de0507",
   "metadata": {},
   "outputs": [],
   "source": [
    "import pandas as pd\n",
    "import numpy as np\n",
    "import os\n",
    "import re\n",
    "from sklearn import preprocessing\n",
    "from sklearn.preprocessing import LabelEncoder\n",
    "from sklearn.preprocessing import OneHotEncoder\n",
    "\n",
    "def sales_car():\n",
    "    url='https://www.motorbeam.com/top-25-selling-cars-in-february-2023/'\n",
    "    df_car=pd.read_html(url)[0]\n",
    "    df_car['February ’22 Sales']=df_car['February ’22 Sales'].str.extract('(\\d+)')\n",
    "    df_car['February ’22 Sales']=df_car['February ’22 Sales'].fillna(0)\n",
    "    df_car['February ’22 Sales']=df_car['February ’22 Sales'].astype(np.int64)\n",
    "    df_car['Sale_Difference']=df_car['February ’23 Sales']- df_car['February ’22 Sales']\n",
    "    \n",
    "    return (df_car)\n",
    "\n",
    "def get_output_schema():\n",
    "    return pd.DataFrame({\n",
    "    'Rank' : prep_int(),\n",
    "    'OEM' : prep_string(),\n",
    "    'Model' : prep_string(),\n",
    "    'February ’23 Sales' : prep_int(),\n",
    "    'February ’22 Sales' : prep_int(),\n",
    "    'YoY Growth' : prep_string(),\n",
    "    'Sale_Difference' : prep_int()\n",
    "})\n",
    "\n",
    "\n",
    "def encode(input):\n",
    "    le = preprocessing.LabelEncoder()\n",
    "    return pd.DataFrame({\n",
    "    'Rank': input['Rank'],\n",
    "    'OEM' : le.fit_transform(input['OEM']),\n",
    "    'Model' : le.fit_transform(input['Model']),\n",
    "    'February ’23 Sales' : le.fit_transform(input['February ’23 Sales']),\n",
    "    'February ’22 Sales' : le.fit_transform(input['February ’22 Sales']),\n",
    "    'YoY Growth' : le.fit_transform(input['YoY Growth']),\n",
    "    'Sale_Difference' : le.fit_transform(input['Sale_Difference'])\n",
    "})"
   ]
  },
  {
   "cell_type": "code",
   "execution_count": null,
   "id": "71580e06",
   "metadata": {},
   "outputs": [],
   "source": []
  }
 ],
 "metadata": {
  "kernelspec": {
   "display_name": "Python 3 (ipykernel)",
   "language": "python",
   "name": "python3"
  },
  "language_info": {
   "codemirror_mode": {
    "name": "ipython",
    "version": 3
   },
   "file_extension": ".py",
   "mimetype": "text/x-python",
   "name": "python",
   "nbconvert_exporter": "python",
   "pygments_lexer": "ipython3",
   "version": "3.9.13"
  }
 },
 "nbformat": 4,
 "nbformat_minor": 5
}
